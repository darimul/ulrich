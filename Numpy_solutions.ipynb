{
  "nbformat": 4,
  "nbformat_minor": 0,
  "metadata": {
    "colab": {
      "provenance": [],
      "authorship_tag": "ABX9TyNSRzN/dVGilF4+n0TVBhCw",
      "include_colab_link": true
    },
    "kernelspec": {
      "name": "python3",
      "display_name": "Python 3"
    },
    "language_info": {
      "name": "python"
    }
  },
  "cells": [
    {
      "cell_type": "markdown",
      "metadata": {
        "id": "view-in-github",
        "colab_type": "text"
      },
      "source": [
        "<a href=\"https://colab.research.google.com/github/darimul/ulrich/blob/main/Numpy_solutions.ipynb\" target=\"_parent\"><img src=\"https://colab.research.google.com/assets/colab-badge.svg\" alt=\"Open In Colab\"/></a>"
      ]
    },
    {
      "cell_type": "markdown",
      "source": [
        "a) Импортируйте библиотеку NumPy"
      ],
      "metadata": {
        "id": "6l_8ZEcz94xJ"
      }
    },
    {
      "cell_type": "code",
      "execution_count": 1,
      "metadata": {
        "id": "jJSTxNqj9vPu"
      },
      "outputs": [],
      "source": [
        "import numpy as np"
      ]
    },
    {
      "cell_type": "markdown",
      "source": [
        "b) Создайте массив из 10 нулей"
      ],
      "metadata": {
        "id": "HyDX1RGE-RGn"
      }
    },
    {
      "cell_type": "code",
      "source": [
        "a = np.zeros(10)\n",
        "print(a)"
      ],
      "metadata": {
        "colab": {
          "base_uri": "https://localhost:8080/"
        },
        "id": "dYyhQgeh-Ulw",
        "outputId": "a2f9b05f-046a-4735-c686-c2191b5c2da4"
      },
      "execution_count": 2,
      "outputs": [
        {
          "output_type": "stream",
          "name": "stdout",
          "text": [
            "[0. 0. 0. 0. 0. 0. 0. 0. 0. 0.]\n"
          ]
        }
      ]
    },
    {
      "cell_type": "markdown",
      "source": [
        "c) Создать массив из 10 единиц"
      ],
      "metadata": {
        "id": "fnF3yxou-e7r"
      }
    },
    {
      "cell_type": "code",
      "source": [
        "b = np.ones(10)\n",
        "print(b)"
      ],
      "metadata": {
        "colab": {
          "base_uri": "https://localhost:8080/"
        },
        "id": "2eWay1Tq-kCA",
        "outputId": "e298a276-b79c-4101-f08b-8a2305e6337b"
      },
      "execution_count": 3,
      "outputs": [
        {
          "output_type": "stream",
          "name": "stdout",
          "text": [
            "[1. 1. 1. 1. 1. 1. 1. 1. 1. 1.]\n"
          ]
        }
      ]
    },
    {
      "cell_type": "markdown",
      "source": [
        "d) Создать массив из 10 пятерок"
      ],
      "metadata": {
        "id": "ngU1YO67-u4S"
      }
    },
    {
      "cell_type": "code",
      "source": [
        "c = b*5\n",
        "print(c)"
      ],
      "metadata": {
        "colab": {
          "base_uri": "https://localhost:8080/"
        },
        "id": "9WBxh7dI-xRB",
        "outputId": "cd88ba9e-4641-46bf-e0f5-086bd514a438"
      },
      "execution_count": 4,
      "outputs": [
        {
          "output_type": "stream",
          "name": "stdout",
          "text": [
            "[5. 5. 5. 5. 5. 5. 5. 5. 5. 5.]\n"
          ]
        }
      ]
    },
    {
      "cell_type": "markdown",
      "source": [
        "e) Создать массив из целых чисел от 10 до 50"
      ],
      "metadata": {
        "id": "aND7fDeV-6h4"
      }
    },
    {
      "cell_type": "code",
      "source": [
        "d = np.arange(10, 51)\n",
        "print(d)"
      ],
      "metadata": {
        "colab": {
          "base_uri": "https://localhost:8080/"
        },
        "id": "VfuGdW0C-9tO",
        "outputId": "8d566fa9-073f-4e3c-9185-27de01e315c5"
      },
      "execution_count": 5,
      "outputs": [
        {
          "output_type": "stream",
          "name": "stdout",
          "text": [
            "[10 11 12 13 14 15 16 17 18 19 20 21 22 23 24 25 26 27 28 29 30 31 32 33\n",
            " 34 35 36 37 38 39 40 41 42 43 44 45 46 47 48 49 50]\n"
          ]
        }
      ]
    },
    {
      "cell_type": "markdown",
      "source": [
        "f) Создать массив из четных чисел от 10 до 50"
      ],
      "metadata": {
        "id": "-PQfkGSL_M8I"
      }
    },
    {
      "cell_type": "code",
      "source": [
        "f = np.arange(10, 51, 2)\n",
        "print(f)"
      ],
      "metadata": {
        "colab": {
          "base_uri": "https://localhost:8080/"
        },
        "id": "mKvW0ZqY_ORe",
        "outputId": "1976cda6-e388-46cf-dbd0-bfe19a775181"
      },
      "execution_count": 6,
      "outputs": [
        {
          "output_type": "stream",
          "name": "stdout",
          "text": [
            "[10 12 14 16 18 20 22 24 26 28 30 32 34 36 38 40 42 44 46 48 50]\n"
          ]
        }
      ]
    },
    {
      "cell_type": "markdown",
      "source": [
        "g) Создать матрицу 3х3 с числами от 0 до 8"
      ],
      "metadata": {
        "id": "cqkqM6W1_f3r"
      }
    },
    {
      "cell_type": "code",
      "source": [
        " g = np.arange(9).reshape(3,3)\n",
        " print(g)"
      ],
      "metadata": {
        "colab": {
          "base_uri": "https://localhost:8080/"
        },
        "id": "_vzdjlCP_hZz",
        "outputId": "362b4b01-d054-4bda-aca5-95b46ce7b9f7"
      },
      "execution_count": 7,
      "outputs": [
        {
          "output_type": "stream",
          "name": "stdout",
          "text": [
            "[[0 1 2]\n",
            " [3 4 5]\n",
            " [6 7 8]]\n"
          ]
        }
      ]
    },
    {
      "cell_type": "markdown",
      "source": [
        "h) Создать единичную матрицу 3x3"
      ],
      "metadata": {
        "id": "Pah6W1Zp__96"
      }
    },
    {
      "cell_type": "code",
      "source": [
        "h = np.eye(3)\n",
        "print(h)"
      ],
      "metadata": {
        "colab": {
          "base_uri": "https://localhost:8080/"
        },
        "id": "KsDpLP28ADO2",
        "outputId": "b61deb3b-6cc1-4c5d-80f1-caaf8de1a16b"
      },
      "execution_count": 8,
      "outputs": [
        {
          "output_type": "stream",
          "name": "stdout",
          "text": [
            "[[1. 0. 0.]\n",
            " [0. 1. 0.]\n",
            " [0. 0. 1.]]\n"
          ]
        }
      ]
    },
    {
      "cell_type": "markdown",
      "source": [
        "i) Используйте NumPy для генерации случайного числа от 0 до 1"
      ],
      "metadata": {
        "id": "zqqBQNaFANQ3"
      }
    },
    {
      "cell_type": "code",
      "source": [
        "i = np.random.rand(1)\n",
        "print(i)\n"
      ],
      "metadata": {
        "colab": {
          "base_uri": "https://localhost:8080/"
        },
        "id": "1ONaZ_SbAPBs",
        "outputId": "1bec59c9-4a02-48cf-fd4d-eee8aa52745d"
      },
      "execution_count": 10,
      "outputs": [
        {
          "output_type": "stream",
          "name": "stdout",
          "text": [
            "[0.97852225]\n"
          ]
        }
      ]
    },
    {
      "cell_type": "markdown",
      "source": [
        "j) Используйте NumPy для генерации массива из 25 случайных чисел,взятых из стандартного нормального распределения"
      ],
      "metadata": {
        "id": "lAujWHmLAd5Z"
      }
    },
    {
      "cell_type": "code",
      "source": [
        "j = np.random.rand(25)\n",
        "print(j)"
      ],
      "metadata": {
        "colab": {
          "base_uri": "https://localhost:8080/"
        },
        "id": "RqiQ-BXZAiw6",
        "outputId": "c31d13c4-a1f4-4d89-f247-5c77f0d93e31"
      },
      "execution_count": 11,
      "outputs": [
        {
          "output_type": "stream",
          "name": "stdout",
          "text": [
            "[0.34260642 0.22191554 0.53653617 0.12620672 0.41222357 0.88256315\n",
            " 0.34016309 0.81560512 0.76337825 0.92598808 0.98526217 0.2031948\n",
            " 0.21102725 0.96240243 0.69897744 0.31502092 0.28535705 0.34994496\n",
            " 0.81763992 0.64491549 0.90519012 0.02404094 0.64392316 0.4641181\n",
            " 0.0336902 ]\n"
          ]
        }
      ]
    },
    {
      "cell_type": "markdown",
      "source": [
        "k) Создайте следующую матрицу используя функции библиотеки NumPy:"
      ],
      "metadata": {
        "id": "xEk52gOaAsjK"
      }
    },
    {
      "cell_type": "code",
      "source": [
        "k = np.arange(0, 1.01, 0.01)\n",
        "print(k)"
      ],
      "metadata": {
        "colab": {
          "base_uri": "https://localhost:8080/"
        },
        "id": "5eF4JuA0Ayj3",
        "outputId": "641ffb43-0d59-4271-9984-092fa51e1a43"
      },
      "execution_count": 13,
      "outputs": [
        {
          "output_type": "stream",
          "name": "stdout",
          "text": [
            "[0.   0.01 0.02 0.03 0.04 0.05 0.06 0.07 0.08 0.09 0.1  0.11 0.12 0.13\n",
            " 0.14 0.15 0.16 0.17 0.18 0.19 0.2  0.21 0.22 0.23 0.24 0.25 0.26 0.27\n",
            " 0.28 0.29 0.3  0.31 0.32 0.33 0.34 0.35 0.36 0.37 0.38 0.39 0.4  0.41\n",
            " 0.42 0.43 0.44 0.45 0.46 0.47 0.48 0.49 0.5  0.51 0.52 0.53 0.54 0.55\n",
            " 0.56 0.57 0.58 0.59 0.6  0.61 0.62 0.63 0.64 0.65 0.66 0.67 0.68 0.69\n",
            " 0.7  0.71 0.72 0.73 0.74 0.75 0.76 0.77 0.78 0.79 0.8  0.81 0.82 0.83\n",
            " 0.84 0.85 0.86 0.87 0.88 0.89 0.9  0.91 0.92 0.93 0.94 0.95 0.96 0.97\n",
            " 0.98 0.99 1.  ]\n"
          ]
        }
      ]
    },
    {
      "cell_type": "markdown",
      "source": [
        "l) Дана стартовая матрица (обязательно запустите код ниже в вашемрешении!). Эта матрица будет использоваться в последующих задачах"
      ],
      "metadata": {
        "id": "tgSe0kQPBeoy"
      }
    },
    {
      "cell_type": "code",
      "source": [
        "mat = np.arange(1,26).reshape(5,5)\n",
        "print(mat)\n"
      ],
      "metadata": {
        "colab": {
          "base_uri": "https://localhost:8080/"
        },
        "id": "cRTJebRTBjMq",
        "outputId": "af0d8972-4107-48d9-9487-7305703d4099"
      },
      "execution_count": 14,
      "outputs": [
        {
          "output_type": "stream",
          "name": "stdout",
          "text": [
            "[[ 1  2  3  4  5]\n",
            " [ 6  7  8  9 10]\n",
            " [11 12 13 14 15]\n",
            " [16 17 18 19 20]\n",
            " [21 22 23 24 25]]\n"
          ]
        }
      ]
    },
    {
      "cell_type": "markdown",
      "source": [
        "Необходимо написать код который вернет следующую матрицуиз стартовой:"
      ],
      "metadata": {
        "id": "s3cLMnwIBo8m"
      }
    },
    {
      "cell_type": "code",
      "source": [
        "print('l =', mat[2:, 1:])"
      ],
      "metadata": {
        "colab": {
          "base_uri": "https://localhost:8080/"
        },
        "id": "5UOA-ryBB1AD",
        "outputId": "5233bad4-c356-4f3e-d52e-1257008cf7f3"
      },
      "execution_count": 15,
      "outputs": [
        {
          "output_type": "stream",
          "name": "stdout",
          "text": [
            "l = [[12 13 14 15]\n",
            " [17 18 19 20]\n",
            " [22 23 24 25]]\n"
          ]
        }
      ]
    },
    {
      "cell_type": "markdown",
      "source": [
        "m) Написать код обращения к элементу который вернет значение  20 изстартовой матрицы задачи l."
      ],
      "metadata": {
        "id": "RUeqzy4vCPdv"
      }
    },
    {
      "cell_type": "code",
      "source": [
        "\n",
        "m = mat[mat == 20]\n",
        "print(m)"
      ],
      "metadata": {
        "colab": {
          "base_uri": "https://localhost:8080/"
        },
        "id": "xWoK--YVCRBP",
        "outputId": "f6c752e0-9dcc-4e86-fe1e-07a36ed58708"
      },
      "execution_count": 20,
      "outputs": [
        {
          "output_type": "stream",
          "name": "stdout",
          "text": [
            "[20]\n"
          ]
        }
      ]
    },
    {
      "cell_type": "markdown",
      "source": [
        "n) Написать код к стартовой матрице задачи l , который воспроизводитвывод, показанный ниже"
      ],
      "metadata": {
        "id": "aTpI_N9YCjOG"
      }
    },
    {
      "cell_type": "code",
      "source": [
        "print('n =', mat[0:3, 1].reshape(3,1))"
      ],
      "metadata": {
        "colab": {
          "base_uri": "https://localhost:8080/"
        },
        "id": "PUF20w3QCmkv",
        "outputId": "5c23b06d-d097-4ba4-fe1b-037dafb6e5b0"
      },
      "execution_count": 17,
      "outputs": [
        {
          "output_type": "stream",
          "name": "stdout",
          "text": [
            "n = [[ 2]\n",
            " [ 7]\n",
            " [12]]\n"
          ]
        }
      ]
    },
    {
      "cell_type": "markdown",
      "source": [
        "o) Написать код к стартовой матрице задачи l , который воспроизводитвывод, показанный ниже"
      ],
      "metadata": {
        "id": "C3HaR0j2DJcr"
      }
    },
    {
      "cell_type": "code",
      "source": [
        "print('o =', mat[4:])"
      ],
      "metadata": {
        "colab": {
          "base_uri": "https://localhost:8080/"
        },
        "id": "w2ohWJULDKl-",
        "outputId": "31066c4f-b203-405f-c70a-3e5ac00d558e"
      },
      "execution_count": 18,
      "outputs": [
        {
          "output_type": "stream",
          "name": "stdout",
          "text": [
            "o = [[21 22 23 24 25]]\n"
          ]
        }
      ]
    },
    {
      "cell_type": "markdown",
      "source": [
        "p) Написать код к стартовой матрице задачи l , который воспроизводитвывод, показанный ниже"
      ],
      "metadata": {
        "id": "jfKTJO1KDZKv"
      }
    },
    {
      "cell_type": "code",
      "source": [
        "print('p =', mat[3:])"
      ],
      "metadata": {
        "colab": {
          "base_uri": "https://localhost:8080/"
        },
        "id": "3VYuI4KoDaxQ",
        "outputId": "337cadcb-50bc-4a42-ea28-bbc1d4588ae9"
      },
      "execution_count": 22,
      "outputs": [
        {
          "output_type": "stream",
          "name": "stdout",
          "text": [
            "p = [[16 17 18 19 20]\n",
            " [21 22 23 24 25]]\n"
          ]
        }
      ]
    },
    {
      "cell_type": "markdown",
      "source": [
        "q) Получить сумму всех значений в стартовой матрице mat"
      ],
      "metadata": {
        "id": "Pyl0TJGxD1jr"
      }
    },
    {
      "cell_type": "code",
      "source": [
        "print(mat.sum())"
      ],
      "metadata": {
        "colab": {
          "base_uri": "https://localhost:8080/"
        },
        "id": "3z3Z7UwPD3Ls",
        "outputId": "d1387284-8874-4472-ff45-8639692946ff"
      },
      "execution_count": 24,
      "outputs": [
        {
          "output_type": "stream",
          "name": "stdout",
          "text": [
            "325\n"
          ]
        }
      ]
    },
    {
      "cell_type": "markdown",
      "source": [
        "r) Получить стандартное отклонение в стартовой матрице mat"
      ],
      "metadata": {
        "id": "XJ5SHuyTEDcK"
      }
    },
    {
      "cell_type": "code",
      "source": [
        "print(mat.std())"
      ],
      "metadata": {
        "colab": {
          "base_uri": "https://localhost:8080/"
        },
        "id": "wGdBiNi1EEz6",
        "outputId": "f52b77db-1472-4fba-9e3e-22c32f64e31c"
      },
      "execution_count": 25,
      "outputs": [
        {
          "output_type": "stream",
          "name": "stdout",
          "text": [
            "7.211102550927978\n"
          ]
        }
      ]
    },
    {
      "cell_type": "markdown",
      "source": [
        "s) Получить сумму значений в колонках в стартовой матрице mat"
      ],
      "metadata": {
        "id": "jPPmjVK_EL2z"
      }
    },
    {
      "cell_type": "code",
      "source": [
        "print(mat.sum(axis=0))"
      ],
      "metadata": {
        "colab": {
          "base_uri": "https://localhost:8080/"
        },
        "id": "qkYROvrAENO1",
        "outputId": "103dc8ff-5638-4cdf-a2e9-e2d4fbfa47e8"
      },
      "execution_count": 26,
      "outputs": [
        {
          "output_type": "stream",
          "name": "stdout",
          "text": [
            "[55 60 65 70 75]\n"
          ]
        }
      ]
    }
  ]
}